{
  "cells": [
    {
      "cell_type": "code",
      "execution_count": 1,
      "metadata": {
        "id": "MNBby4nnVx3W"
      },
      "outputs": [],
      "source": [
        "## importation des packages\n",
        "import pandas as pd\n",
        "import numpy as np \n",
        "import matplotlib.pyplot as plt\n",
        "import seaborn as sns\n"
      ]
    },
    {
      "cell_type": "code",
      "execution_count": 2,
      "metadata": {
        "id": "_dX3phcyV1Us",
        "colab": {
          "base_uri": "https://localhost:8080/",
          "height": 73
        },
        "outputId": "fcd44b50-d6b6-4aa0-cb89-2a63e056df7f"
      },
      "outputs": [
        {
          "output_type": "display_data",
          "data": {
            "text/plain": [
              "<IPython.core.display.HTML object>"
            ],
            "text/html": [
              "\n",
              "     <input type=\"file\" id=\"files-01fe825f-0d91-4eae-b5c0-3e60e196c62c\" name=\"files[]\" multiple disabled\n",
              "        style=\"border:none\" />\n",
              "     <output id=\"result-01fe825f-0d91-4eae-b5c0-3e60e196c62c\">\n",
              "      Upload widget is only available when the cell has been executed in the\n",
              "      current browser session. Please rerun this cell to enable.\n",
              "      </output>\n",
              "      <script>// Copyright 2017 Google LLC\n",
              "//\n",
              "// Licensed under the Apache License, Version 2.0 (the \"License\");\n",
              "// you may not use this file except in compliance with the License.\n",
              "// You may obtain a copy of the License at\n",
              "//\n",
              "//      http://www.apache.org/licenses/LICENSE-2.0\n",
              "//\n",
              "// Unless required by applicable law or agreed to in writing, software\n",
              "// distributed under the License is distributed on an \"AS IS\" BASIS,\n",
              "// WITHOUT WARRANTIES OR CONDITIONS OF ANY KIND, either express or implied.\n",
              "// See the License for the specific language governing permissions and\n",
              "// limitations under the License.\n",
              "\n",
              "/**\n",
              " * @fileoverview Helpers for google.colab Python module.\n",
              " */\n",
              "(function(scope) {\n",
              "function span(text, styleAttributes = {}) {\n",
              "  const element = document.createElement('span');\n",
              "  element.textContent = text;\n",
              "  for (const key of Object.keys(styleAttributes)) {\n",
              "    element.style[key] = styleAttributes[key];\n",
              "  }\n",
              "  return element;\n",
              "}\n",
              "\n",
              "// Max number of bytes which will be uploaded at a time.\n",
              "const MAX_PAYLOAD_SIZE = 100 * 1024;\n",
              "\n",
              "function _uploadFiles(inputId, outputId) {\n",
              "  const steps = uploadFilesStep(inputId, outputId);\n",
              "  const outputElement = document.getElementById(outputId);\n",
              "  // Cache steps on the outputElement to make it available for the next call\n",
              "  // to uploadFilesContinue from Python.\n",
              "  outputElement.steps = steps;\n",
              "\n",
              "  return _uploadFilesContinue(outputId);\n",
              "}\n",
              "\n",
              "// This is roughly an async generator (not supported in the browser yet),\n",
              "// where there are multiple asynchronous steps and the Python side is going\n",
              "// to poll for completion of each step.\n",
              "// This uses a Promise to block the python side on completion of each step,\n",
              "// then passes the result of the previous step as the input to the next step.\n",
              "function _uploadFilesContinue(outputId) {\n",
              "  const outputElement = document.getElementById(outputId);\n",
              "  const steps = outputElement.steps;\n",
              "\n",
              "  const next = steps.next(outputElement.lastPromiseValue);\n",
              "  return Promise.resolve(next.value.promise).then((value) => {\n",
              "    // Cache the last promise value to make it available to the next\n",
              "    // step of the generator.\n",
              "    outputElement.lastPromiseValue = value;\n",
              "    return next.value.response;\n",
              "  });\n",
              "}\n",
              "\n",
              "/**\n",
              " * Generator function which is called between each async step of the upload\n",
              " * process.\n",
              " * @param {string} inputId Element ID of the input file picker element.\n",
              " * @param {string} outputId Element ID of the output display.\n",
              " * @return {!Iterable<!Object>} Iterable of next steps.\n",
              " */\n",
              "function* uploadFilesStep(inputId, outputId) {\n",
              "  const inputElement = document.getElementById(inputId);\n",
              "  inputElement.disabled = false;\n",
              "\n",
              "  const outputElement = document.getElementById(outputId);\n",
              "  outputElement.innerHTML = '';\n",
              "\n",
              "  const pickedPromise = new Promise((resolve) => {\n",
              "    inputElement.addEventListener('change', (e) => {\n",
              "      resolve(e.target.files);\n",
              "    });\n",
              "  });\n",
              "\n",
              "  const cancel = document.createElement('button');\n",
              "  inputElement.parentElement.appendChild(cancel);\n",
              "  cancel.textContent = 'Cancel upload';\n",
              "  const cancelPromise = new Promise((resolve) => {\n",
              "    cancel.onclick = () => {\n",
              "      resolve(null);\n",
              "    };\n",
              "  });\n",
              "\n",
              "  // Wait for the user to pick the files.\n",
              "  const files = yield {\n",
              "    promise: Promise.race([pickedPromise, cancelPromise]),\n",
              "    response: {\n",
              "      action: 'starting',\n",
              "    }\n",
              "  };\n",
              "\n",
              "  cancel.remove();\n",
              "\n",
              "  // Disable the input element since further picks are not allowed.\n",
              "  inputElement.disabled = true;\n",
              "\n",
              "  if (!files) {\n",
              "    return {\n",
              "      response: {\n",
              "        action: 'complete',\n",
              "      }\n",
              "    };\n",
              "  }\n",
              "\n",
              "  for (const file of files) {\n",
              "    const li = document.createElement('li');\n",
              "    li.append(span(file.name, {fontWeight: 'bold'}));\n",
              "    li.append(span(\n",
              "        `(${file.type || 'n/a'}) - ${file.size} bytes, ` +\n",
              "        `last modified: ${\n",
              "            file.lastModifiedDate ? file.lastModifiedDate.toLocaleDateString() :\n",
              "                                    'n/a'} - `));\n",
              "    const percent = span('0% done');\n",
              "    li.appendChild(percent);\n",
              "\n",
              "    outputElement.appendChild(li);\n",
              "\n",
              "    const fileDataPromise = new Promise((resolve) => {\n",
              "      const reader = new FileReader();\n",
              "      reader.onload = (e) => {\n",
              "        resolve(e.target.result);\n",
              "      };\n",
              "      reader.readAsArrayBuffer(file);\n",
              "    });\n",
              "    // Wait for the data to be ready.\n",
              "    let fileData = yield {\n",
              "      promise: fileDataPromise,\n",
              "      response: {\n",
              "        action: 'continue',\n",
              "      }\n",
              "    };\n",
              "\n",
              "    // Use a chunked sending to avoid message size limits. See b/62115660.\n",
              "    let position = 0;\n",
              "    do {\n",
              "      const length = Math.min(fileData.byteLength - position, MAX_PAYLOAD_SIZE);\n",
              "      const chunk = new Uint8Array(fileData, position, length);\n",
              "      position += length;\n",
              "\n",
              "      const base64 = btoa(String.fromCharCode.apply(null, chunk));\n",
              "      yield {\n",
              "        response: {\n",
              "          action: 'append',\n",
              "          file: file.name,\n",
              "          data: base64,\n",
              "        },\n",
              "      };\n",
              "\n",
              "      let percentDone = fileData.byteLength === 0 ?\n",
              "          100 :\n",
              "          Math.round((position / fileData.byteLength) * 100);\n",
              "      percent.textContent = `${percentDone}% done`;\n",
              "\n",
              "    } while (position < fileData.byteLength);\n",
              "  }\n",
              "\n",
              "  // All done.\n",
              "  yield {\n",
              "    response: {\n",
              "      action: 'complete',\n",
              "    }\n",
              "  };\n",
              "}\n",
              "\n",
              "scope.google = scope.google || {};\n",
              "scope.google.colab = scope.google.colab || {};\n",
              "scope.google.colab._files = {\n",
              "  _uploadFiles,\n",
              "  _uploadFilesContinue,\n",
              "};\n",
              "})(self);\n",
              "</script> "
            ]
          },
          "metadata": {}
        },
        {
          "output_type": "stream",
          "name": "stdout",
          "text": [
            "Saving gft_cards.csv.xls to gft_cards.csv.xls\n"
          ]
        }
      ],
      "source": [
        "from google.colab import files\n",
        "uploaded = files.upload()"
      ]
    },
    {
      "cell_type": "code",
      "execution_count": 5,
      "metadata": {
        "id": "Y7RDZ-69Wfaj"
      },
      "outputs": [],
      "source": [
        "data = pd.read_csv('gft_cards.csv.xls')\n"
      ]
    },
    {
      "cell_type": "code",
      "execution_count": 6,
      "metadata": {
        "colab": {
          "base_uri": "https://localhost:8080/",
          "height": 206
        },
        "id": "D-inFM7kWyQ4",
        "outputId": "e0125eba-6b2b-4cf3-8fe4-7e8c35bbee31"
      },
      "outputs": [
        {
          "output_type": "execute_result",
          "data": {
            "text/plain": [
              "                                         Description   Price  \\\n",
              "0                              Amazon.com eGift Card   $1.00   \n",
              "1                Amazon.com Gift Card Balance Reload   $0.50   \n",
              "2                 Amazon.com Print at Home Gift Card   $1.00   \n",
              "3  Amazon.com Gift Card in a Reveal (Various Desi...  $20.00   \n",
              "4  Amazon.com Gift Card in a Greeting Card (Vario...  $10.00   \n",
              "\n",
              "               Rating Review Count  \\\n",
              "0  4.8 out of 5 stars    (902,600)   \n",
              "1  4.6 out of 5 stars    (372,292)   \n",
              "2  4.8 out of 5 stars     (84,199)   \n",
              "3  4.9 out of 5 stars     (78,768)   \n",
              "4  4.8 out of 5 stars     (70,425)   \n",
              "\n",
              "                                                 URL  \n",
              "0  https://www.amazon.com/Amazon-eGift-Card-Logo/...  \n",
              "1  https://www.amazon.com/Amazon-com-Gift-Card-Ba...  \n",
              "2  https://www.amazon.com/Amazon-Gift-Card-Print-...  \n",
              "3  https://www.amazon.com/Amazon-com-Reveal-Class...  \n",
              "4  https://www.amazon.com/Amazon-com-Greeting-Bir...  "
            ],
            "text/html": [
              "\n",
              "  <div id=\"df-4ed54b0d-f5b7-47b6-b7a5-80d0f40d6783\">\n",
              "    <div class=\"colab-df-container\">\n",
              "      <div>\n",
              "<style scoped>\n",
              "    .dataframe tbody tr th:only-of-type {\n",
              "        vertical-align: middle;\n",
              "    }\n",
              "\n",
              "    .dataframe tbody tr th {\n",
              "        vertical-align: top;\n",
              "    }\n",
              "\n",
              "    .dataframe thead th {\n",
              "        text-align: right;\n",
              "    }\n",
              "</style>\n",
              "<table border=\"1\" class=\"dataframe\">\n",
              "  <thead>\n",
              "    <tr style=\"text-align: right;\">\n",
              "      <th></th>\n",
              "      <th>Description</th>\n",
              "      <th>Price</th>\n",
              "      <th>Rating</th>\n",
              "      <th>Review Count</th>\n",
              "      <th>URL</th>\n",
              "    </tr>\n",
              "  </thead>\n",
              "  <tbody>\n",
              "    <tr>\n",
              "      <th>0</th>\n",
              "      <td>Amazon.com eGift Card</td>\n",
              "      <td>$1.00</td>\n",
              "      <td>4.8 out of 5 stars</td>\n",
              "      <td>(902,600)</td>\n",
              "      <td>https://www.amazon.com/Amazon-eGift-Card-Logo/...</td>\n",
              "    </tr>\n",
              "    <tr>\n",
              "      <th>1</th>\n",
              "      <td>Amazon.com Gift Card Balance Reload</td>\n",
              "      <td>$0.50</td>\n",
              "      <td>4.6 out of 5 stars</td>\n",
              "      <td>(372,292)</td>\n",
              "      <td>https://www.amazon.com/Amazon-com-Gift-Card-Ba...</td>\n",
              "    </tr>\n",
              "    <tr>\n",
              "      <th>2</th>\n",
              "      <td>Amazon.com Print at Home Gift Card</td>\n",
              "      <td>$1.00</td>\n",
              "      <td>4.8 out of 5 stars</td>\n",
              "      <td>(84,199)</td>\n",
              "      <td>https://www.amazon.com/Amazon-Gift-Card-Print-...</td>\n",
              "    </tr>\n",
              "    <tr>\n",
              "      <th>3</th>\n",
              "      <td>Amazon.com Gift Card in a Reveal (Various Desi...</td>\n",
              "      <td>$20.00</td>\n",
              "      <td>4.9 out of 5 stars</td>\n",
              "      <td>(78,768)</td>\n",
              "      <td>https://www.amazon.com/Amazon-com-Reveal-Class...</td>\n",
              "    </tr>\n",
              "    <tr>\n",
              "      <th>4</th>\n",
              "      <td>Amazon.com Gift Card in a Greeting Card (Vario...</td>\n",
              "      <td>$10.00</td>\n",
              "      <td>4.8 out of 5 stars</td>\n",
              "      <td>(70,425)</td>\n",
              "      <td>https://www.amazon.com/Amazon-com-Greeting-Bir...</td>\n",
              "    </tr>\n",
              "  </tbody>\n",
              "</table>\n",
              "</div>\n",
              "      <button class=\"colab-df-convert\" onclick=\"convertToInteractive('df-4ed54b0d-f5b7-47b6-b7a5-80d0f40d6783')\"\n",
              "              title=\"Convert this dataframe to an interactive table.\"\n",
              "              style=\"display:none;\">\n",
              "        \n",
              "  <svg xmlns=\"http://www.w3.org/2000/svg\" height=\"24px\"viewBox=\"0 0 24 24\"\n",
              "       width=\"24px\">\n",
              "    <path d=\"M0 0h24v24H0V0z\" fill=\"none\"/>\n",
              "    <path d=\"M18.56 5.44l.94 2.06.94-2.06 2.06-.94-2.06-.94-.94-2.06-.94 2.06-2.06.94zm-11 1L8.5 8.5l.94-2.06 2.06-.94-2.06-.94L8.5 2.5l-.94 2.06-2.06.94zm10 10l.94 2.06.94-2.06 2.06-.94-2.06-.94-.94-2.06-.94 2.06-2.06.94z\"/><path d=\"M17.41 7.96l-1.37-1.37c-.4-.4-.92-.59-1.43-.59-.52 0-1.04.2-1.43.59L10.3 9.45l-7.72 7.72c-.78.78-.78 2.05 0 2.83L4 21.41c.39.39.9.59 1.41.59.51 0 1.02-.2 1.41-.59l7.78-7.78 2.81-2.81c.8-.78.8-2.07 0-2.86zM5.41 20L4 18.59l7.72-7.72 1.47 1.35L5.41 20z\"/>\n",
              "  </svg>\n",
              "      </button>\n",
              "      \n",
              "  <style>\n",
              "    .colab-df-container {\n",
              "      display:flex;\n",
              "      flex-wrap:wrap;\n",
              "      gap: 12px;\n",
              "    }\n",
              "\n",
              "    .colab-df-convert {\n",
              "      background-color: #E8F0FE;\n",
              "      border: none;\n",
              "      border-radius: 50%;\n",
              "      cursor: pointer;\n",
              "      display: none;\n",
              "      fill: #1967D2;\n",
              "      height: 32px;\n",
              "      padding: 0 0 0 0;\n",
              "      width: 32px;\n",
              "    }\n",
              "\n",
              "    .colab-df-convert:hover {\n",
              "      background-color: #E2EBFA;\n",
              "      box-shadow: 0px 1px 2px rgba(60, 64, 67, 0.3), 0px 1px 3px 1px rgba(60, 64, 67, 0.15);\n",
              "      fill: #174EA6;\n",
              "    }\n",
              "\n",
              "    [theme=dark] .colab-df-convert {\n",
              "      background-color: #3B4455;\n",
              "      fill: #D2E3FC;\n",
              "    }\n",
              "\n",
              "    [theme=dark] .colab-df-convert:hover {\n",
              "      background-color: #434B5C;\n",
              "      box-shadow: 0px 1px 3px 1px rgba(0, 0, 0, 0.15);\n",
              "      filter: drop-shadow(0px 1px 2px rgba(0, 0, 0, 0.3));\n",
              "      fill: #FFFFFF;\n",
              "    }\n",
              "  </style>\n",
              "\n",
              "      <script>\n",
              "        const buttonEl =\n",
              "          document.querySelector('#df-4ed54b0d-f5b7-47b6-b7a5-80d0f40d6783 button.colab-df-convert');\n",
              "        buttonEl.style.display =\n",
              "          google.colab.kernel.accessAllowed ? 'block' : 'none';\n",
              "\n",
              "        async function convertToInteractive(key) {\n",
              "          const element = document.querySelector('#df-4ed54b0d-f5b7-47b6-b7a5-80d0f40d6783');\n",
              "          const dataTable =\n",
              "            await google.colab.kernel.invokeFunction('convertToInteractive',\n",
              "                                                     [key], {});\n",
              "          if (!dataTable) return;\n",
              "\n",
              "          const docLinkHtml = 'Like what you see? Visit the ' +\n",
              "            '<a target=\"_blank\" href=https://colab.research.google.com/notebooks/data_table.ipynb>data table notebook</a>'\n",
              "            + ' to learn more about interactive tables.';\n",
              "          element.innerHTML = '';\n",
              "          dataTable['output_type'] = 'display_data';\n",
              "          await google.colab.output.renderOutput(dataTable, element);\n",
              "          const docLink = document.createElement('div');\n",
              "          docLink.innerHTML = docLinkHtml;\n",
              "          element.appendChild(docLink);\n",
              "        }\n",
              "      </script>\n",
              "    </div>\n",
              "  </div>\n",
              "  "
            ]
          },
          "metadata": {},
          "execution_count": 6
        }
      ],
      "source": [
        "data.head()"
      ]
    },
    {
      "cell_type": "markdown",
      "source": [
        "#  DATA INFOS"
      ],
      "metadata": {
        "id": "zkmTd5bCFldy"
      }
    },
    {
      "cell_type": "code",
      "source": [
        "print(data.shape)"
      ],
      "metadata": {
        "colab": {
          "base_uri": "https://localhost:8080/"
        },
        "id": "LdIRrumOJXjH",
        "outputId": "298f2722-f50c-4bc2-823d-b09cbc25fc25"
      },
      "execution_count": 7,
      "outputs": [
        {
          "output_type": "stream",
          "name": "stdout",
          "text": [
            "(366, 5)\n"
          ]
        }
      ]
    },
    {
      "cell_type": "code",
      "source": [
        "data.info()"
      ],
      "metadata": {
        "colab": {
          "base_uri": "https://localhost:8080/"
        },
        "id": "hjEY6PD3JeeM",
        "outputId": "cccb0895-b4f0-4331-aeb8-b2b476b1f528"
      },
      "execution_count": 8,
      "outputs": [
        {
          "output_type": "stream",
          "name": "stdout",
          "text": [
            "<class 'pandas.core.frame.DataFrame'>\n",
            "RangeIndex: 366 entries, 0 to 365\n",
            "Data columns (total 5 columns):\n",
            " #   Column        Non-Null Count  Dtype \n",
            "---  ------        --------------  ----- \n",
            " 0   Description   366 non-null    object\n",
            " 1   Price         366 non-null    object\n",
            " 2   Rating        343 non-null    object\n",
            " 3   Review Count  343 non-null    object\n",
            " 4   URL           366 non-null    object\n",
            "dtypes: object(5)\n",
            "memory usage: 14.4+ KB\n"
          ]
        }
      ]
    },
    {
      "cell_type": "markdown",
      "source": [
        "On est s'interesser de savoir les distinct item for each columns et leurs occurences"
      ],
      "metadata": {
        "id": "3bZGgaUl0gH8"
      }
    },
    {
      "cell_type": "code",
      "source": [
        "All_col=data.columns.values"
      ],
      "metadata": {
        "id": "YUVVTPfO0Xgm"
      },
      "execution_count": 9,
      "outputs": []
    },
    {
      "cell_type": "code",
      "source": [
        "def valuecount(l,data):\n",
        "    for i in l:\n",
        "        print(\"______________________________________________\")\n",
        "        print('les distincts items et occurences  de ', i)\n",
        "        print( data[i].value_counts())"
      ],
      "metadata": {
        "id": "7VjUPzJb0HdN"
      },
      "execution_count": 10,
      "outputs": []
    },
    {
      "cell_type": "code",
      "source": [
        "valuecount(All_col,data)"
      ],
      "metadata": {
        "id": "USAjUX730i-U",
        "colab": {
          "base_uri": "https://localhost:8080/"
        },
        "outputId": "76b53bc2-2f4d-4847-b8b8-e19f657a54c6"
      },
      "execution_count": 11,
      "outputs": [
        {
          "output_type": "stream",
          "name": "stdout",
          "text": [
            "______________________________________________\n",
            "les distincts items et occurences  de  Description\n",
            "Amazon.com Gift Card in a Reveal (Various Designs)           3\n",
            "Amazon.com Gift Card in a Greeting Card (Various Designs)    3\n",
            "Amazon.com eGift Card                                        2\n",
            "Hotels.com Gift Card - Email Delivery                        2\n",
            "Nordstrom Gift Card - Email Delivery                         2\n",
            "                                                            ..\n",
            "Taco Casa Gift Cards - E-mail Delivery                       1\n",
            "OH BABY Gift Card - Email Delivery                           1\n",
            "Gap Gift Cards - Email Delivery                              1\n",
            "JCPenney Gift Cards - Email Delivery                         1\n",
            "Banana Republic Gift Cards - E-mail Delivery                 1\n",
            "Name: Description, Length: 308, dtype: int64\n",
            "______________________________________________\n",
            "les distincts items et occurences  de  Price\n",
            "$25.00     286\n",
            "$50.00      25\n",
            "$20.00       7\n",
            "$100.00      6\n",
            "$1.00        4\n",
            "$10.00       4\n",
            "$15.00       3\n",
            "$30.00       3\n",
            "$0.50        3\n",
            "$99.00       2\n",
            "$24.99       2\n",
            "$250.00      2\n",
            "$39.99       1\n",
            "$64.99       1\n",
            "$135.95      1\n",
            "$5.00        1\n",
            "$19.95       1\n",
            "$92.00       1\n",
            "$60.00       1\n",
            "$139.99      1\n",
            "$20.99       1\n",
            "$7.88        1\n",
            "$10.99       1\n",
            "$16.99       1\n",
            "$4.99        1\n",
            "$31.99       1\n",
            "$48.99       1\n",
            "$12.99       1\n",
            "$16.77       1\n",
            "$8.98        1\n",
            "$99.99       1\n",
            "Name: Price, dtype: int64\n",
            "______________________________________________\n",
            "les distincts items et occurences  de  Rating\n",
            "4.8 out of 5 stars    89\n",
            "4.7 out of 5 stars    69\n",
            "4.9 out of 5 stars    69\n",
            "4.6 out of 5 stars    28\n",
            "5.0 out of 5 stars    20\n",
            "4.5 out of 5 stars    16\n",
            "4.4 out of 5 stars    10\n",
            "4.3 out of 5 stars     7\n",
            "4.0 out of 5 stars     5\n",
            "1.0 out of 5 stars     4\n",
            "4.2 out of 5 stars     4\n",
            "3.6 out of 5 stars     3\n",
            "3.0 out of 5 stars     3\n",
            "3.1 out of 5 stars     2\n",
            "3.3 out of 5 stars     2\n",
            "4.1 out of 5 stars     2\n",
            "3.7 out of 5 stars     2\n",
            "2.8 out of 5 stars     1\n",
            "2.9 out of 5 stars     1\n",
            "3.8 out of 5 stars     1\n",
            "2.1 out of 5 stars     1\n",
            "3.2 out of 5 stars     1\n",
            "3.9 out of 5 stars     1\n",
            "3.5 out of 5 stars     1\n",
            "2.5 out of 5 stars     1\n",
            "Name: Rating, dtype: int64\n",
            "______________________________________________\n",
            "les distincts items et occurences  de  Review Count\n",
            "(1)        10\n",
            "(2)         8\n",
            "(3)         5\n",
            "(5)         5\n",
            "(25)        5\n",
            "           ..\n",
            "(1,936)     1\n",
            "(1,095)     1\n",
            "(956)       1\n",
            "(232)       1\n",
            "(77)        1\n",
            "Name: Review Count, Length: 260, dtype: int64\n",
            "______________________________________________\n",
            "les distincts items et occurences  de  URL\n",
            "https://www.amazon.com/Amazon-eGift-Card-Logo/dp/B07PCMWTSG/ref=sr_1_1?keywords=gift+cards&qid=1677074405&sr=8-1                          1\n",
            "https://www.amazon.com/Claires-Cards-Redemption-Online-mail/dp/B00OH7ZB2O/ref=sr_1_192?keywords=gift+cards&qid=1677076682&sr=8-192        1\n",
            "https://www.amazon.com/Schlotzskys-Gift-Card-Email-Delivery/dp/B0B686QTDK/ref=sr_1_190?keywords=gift+cards&qid=1677076682&sr=8-190        1\n",
            "https://www.amazon.com/BoxLunch-Gift-Cards-Email-Delivery/dp/B07XVLBSTH/ref=sr_1_189?keywords=gift+cards&qid=1677076682&sr=8-189          1\n",
            "https://www.amazon.com/Hibbett-Sports-Castle-Cards-mail/dp/B0172YLIIO/ref=sr_1_188?keywords=gift+cards&qid=1677076682&sr=8-188            1\n",
            "                                                                                                                                         ..\n",
            "https://www.amazon.com/Hulu-100-Gift-Card-Delivery/dp/B08NVS8DQ3/ref=sr_1_73?keywords=gift+cards&qid=1677076675&sr=8-73                   1\n",
            "https://www.amazon.com/Sephora-Gift-Cards-E-mail-Delivery/dp/B00MV9GGEC/ref=sr_1_72?keywords=gift+cards&qid=1677076675&sr=8-72            1\n",
            "https://www.amazon.com/Cinemark-Gift-Cards-Email-Delivery/dp/B07XVKS3H1/ref=sr_1_71?keywords=gift+cards&qid=1677076675&sr=8-71            1\n",
            "https://www.amazon.com/Topgolf-Gift-Cards-Email-Delivery/dp/B07ZHZMLX2/ref=sr_1_70?keywords=gift+cards&qid=1677076675&sr=8-70             1\n",
            "https://www.amazon.com/Banana-Republic-Cards-Configuration-mail/dp/B016PATFMM/ref=sr_1_306?keywords=gift+cards&qid=1677076693&sr=8-306    1\n",
            "Name: URL, Length: 366, dtype: int64\n"
          ]
        }
      ]
    },
    {
      "cell_type": "markdown",
      "source": [
        "###DATA CLEANING"
      ],
      "metadata": {
        "id": "yJnt0eg_FUFM"
      }
    },
    {
      "cell_type": "code",
      "source": [
        "data.head()"
      ],
      "metadata": {
        "colab": {
          "base_uri": "https://localhost:8080/",
          "height": 206
        },
        "id": "T9-SOWgV8jNL",
        "outputId": "377ad386-f370-41cc-a1d8-216d303af8a0"
      },
      "execution_count": 13,
      "outputs": [
        {
          "output_type": "execute_result",
          "data": {
            "text/plain": [
              "                                         Description   Price  \\\n",
              "0                              Amazon.com eGift Card   $1.00   \n",
              "1                Amazon.com Gift Card Balance Reload   $0.50   \n",
              "2                 Amazon.com Print at Home Gift Card   $1.00   \n",
              "3  Amazon.com Gift Card in a Reveal (Various Desi...  $20.00   \n",
              "4  Amazon.com Gift Card in a Greeting Card (Vario...  $10.00   \n",
              "\n",
              "               Rating Review Count  \\\n",
              "0  4.8 out of 5 stars    (902,600)   \n",
              "1  4.6 out of 5 stars    (372,292)   \n",
              "2  4.8 out of 5 stars     (84,199)   \n",
              "3  4.9 out of 5 stars     (78,768)   \n",
              "4  4.8 out of 5 stars     (70,425)   \n",
              "\n",
              "                                                 URL  \n",
              "0  https://www.amazon.com/Amazon-eGift-Card-Logo/...  \n",
              "1  https://www.amazon.com/Amazon-com-Gift-Card-Ba...  \n",
              "2  https://www.amazon.com/Amazon-Gift-Card-Print-...  \n",
              "3  https://www.amazon.com/Amazon-com-Reveal-Class...  \n",
              "4  https://www.amazon.com/Amazon-com-Greeting-Bir...  "
            ],
            "text/html": [
              "\n",
              "  <div id=\"df-e6a9f36e-6e5a-4c9d-967b-f2e7707bfca1\">\n",
              "    <div class=\"colab-df-container\">\n",
              "      <div>\n",
              "<style scoped>\n",
              "    .dataframe tbody tr th:only-of-type {\n",
              "        vertical-align: middle;\n",
              "    }\n",
              "\n",
              "    .dataframe tbody tr th {\n",
              "        vertical-align: top;\n",
              "    }\n",
              "\n",
              "    .dataframe thead th {\n",
              "        text-align: right;\n",
              "    }\n",
              "</style>\n",
              "<table border=\"1\" class=\"dataframe\">\n",
              "  <thead>\n",
              "    <tr style=\"text-align: right;\">\n",
              "      <th></th>\n",
              "      <th>Description</th>\n",
              "      <th>Price</th>\n",
              "      <th>Rating</th>\n",
              "      <th>Review Count</th>\n",
              "      <th>URL</th>\n",
              "    </tr>\n",
              "  </thead>\n",
              "  <tbody>\n",
              "    <tr>\n",
              "      <th>0</th>\n",
              "      <td>Amazon.com eGift Card</td>\n",
              "      <td>$1.00</td>\n",
              "      <td>4.8 out of 5 stars</td>\n",
              "      <td>(902,600)</td>\n",
              "      <td>https://www.amazon.com/Amazon-eGift-Card-Logo/...</td>\n",
              "    </tr>\n",
              "    <tr>\n",
              "      <th>1</th>\n",
              "      <td>Amazon.com Gift Card Balance Reload</td>\n",
              "      <td>$0.50</td>\n",
              "      <td>4.6 out of 5 stars</td>\n",
              "      <td>(372,292)</td>\n",
              "      <td>https://www.amazon.com/Amazon-com-Gift-Card-Ba...</td>\n",
              "    </tr>\n",
              "    <tr>\n",
              "      <th>2</th>\n",
              "      <td>Amazon.com Print at Home Gift Card</td>\n",
              "      <td>$1.00</td>\n",
              "      <td>4.8 out of 5 stars</td>\n",
              "      <td>(84,199)</td>\n",
              "      <td>https://www.amazon.com/Amazon-Gift-Card-Print-...</td>\n",
              "    </tr>\n",
              "    <tr>\n",
              "      <th>3</th>\n",
              "      <td>Amazon.com Gift Card in a Reveal (Various Desi...</td>\n",
              "      <td>$20.00</td>\n",
              "      <td>4.9 out of 5 stars</td>\n",
              "      <td>(78,768)</td>\n",
              "      <td>https://www.amazon.com/Amazon-com-Reveal-Class...</td>\n",
              "    </tr>\n",
              "    <tr>\n",
              "      <th>4</th>\n",
              "      <td>Amazon.com Gift Card in a Greeting Card (Vario...</td>\n",
              "      <td>$10.00</td>\n",
              "      <td>4.8 out of 5 stars</td>\n",
              "      <td>(70,425)</td>\n",
              "      <td>https://www.amazon.com/Amazon-com-Greeting-Bir...</td>\n",
              "    </tr>\n",
              "  </tbody>\n",
              "</table>\n",
              "</div>\n",
              "      <button class=\"colab-df-convert\" onclick=\"convertToInteractive('df-e6a9f36e-6e5a-4c9d-967b-f2e7707bfca1')\"\n",
              "              title=\"Convert this dataframe to an interactive table.\"\n",
              "              style=\"display:none;\">\n",
              "        \n",
              "  <svg xmlns=\"http://www.w3.org/2000/svg\" height=\"24px\"viewBox=\"0 0 24 24\"\n",
              "       width=\"24px\">\n",
              "    <path d=\"M0 0h24v24H0V0z\" fill=\"none\"/>\n",
              "    <path d=\"M18.56 5.44l.94 2.06.94-2.06 2.06-.94-2.06-.94-.94-2.06-.94 2.06-2.06.94zm-11 1L8.5 8.5l.94-2.06 2.06-.94-2.06-.94L8.5 2.5l-.94 2.06-2.06.94zm10 10l.94 2.06.94-2.06 2.06-.94-2.06-.94-.94-2.06-.94 2.06-2.06.94z\"/><path d=\"M17.41 7.96l-1.37-1.37c-.4-.4-.92-.59-1.43-.59-.52 0-1.04.2-1.43.59L10.3 9.45l-7.72 7.72c-.78.78-.78 2.05 0 2.83L4 21.41c.39.39.9.59 1.41.59.51 0 1.02-.2 1.41-.59l7.78-7.78 2.81-2.81c.8-.78.8-2.07 0-2.86zM5.41 20L4 18.59l7.72-7.72 1.47 1.35L5.41 20z\"/>\n",
              "  </svg>\n",
              "      </button>\n",
              "      \n",
              "  <style>\n",
              "    .colab-df-container {\n",
              "      display:flex;\n",
              "      flex-wrap:wrap;\n",
              "      gap: 12px;\n",
              "    }\n",
              "\n",
              "    .colab-df-convert {\n",
              "      background-color: #E8F0FE;\n",
              "      border: none;\n",
              "      border-radius: 50%;\n",
              "      cursor: pointer;\n",
              "      display: none;\n",
              "      fill: #1967D2;\n",
              "      height: 32px;\n",
              "      padding: 0 0 0 0;\n",
              "      width: 32px;\n",
              "    }\n",
              "\n",
              "    .colab-df-convert:hover {\n",
              "      background-color: #E2EBFA;\n",
              "      box-shadow: 0px 1px 2px rgba(60, 64, 67, 0.3), 0px 1px 3px 1px rgba(60, 64, 67, 0.15);\n",
              "      fill: #174EA6;\n",
              "    }\n",
              "\n",
              "    [theme=dark] .colab-df-convert {\n",
              "      background-color: #3B4455;\n",
              "      fill: #D2E3FC;\n",
              "    }\n",
              "\n",
              "    [theme=dark] .colab-df-convert:hover {\n",
              "      background-color: #434B5C;\n",
              "      box-shadow: 0px 1px 3px 1px rgba(0, 0, 0, 0.15);\n",
              "      filter: drop-shadow(0px 1px 2px rgba(0, 0, 0, 0.3));\n",
              "      fill: #FFFFFF;\n",
              "    }\n",
              "  </style>\n",
              "\n",
              "      <script>\n",
              "        const buttonEl =\n",
              "          document.querySelector('#df-e6a9f36e-6e5a-4c9d-967b-f2e7707bfca1 button.colab-df-convert');\n",
              "        buttonEl.style.display =\n",
              "          google.colab.kernel.accessAllowed ? 'block' : 'none';\n",
              "\n",
              "        async function convertToInteractive(key) {\n",
              "          const element = document.querySelector('#df-e6a9f36e-6e5a-4c9d-967b-f2e7707bfca1');\n",
              "          const dataTable =\n",
              "            await google.colab.kernel.invokeFunction('convertToInteractive',\n",
              "                                                     [key], {});\n",
              "          if (!dataTable) return;\n",
              "\n",
              "          const docLinkHtml = 'Like what you see? Visit the ' +\n",
              "            '<a target=\"_blank\" href=https://colab.research.google.com/notebooks/data_table.ipynb>data table notebook</a>'\n",
              "            + ' to learn more about interactive tables.';\n",
              "          element.innerHTML = '';\n",
              "          dataTable['output_type'] = 'display_data';\n",
              "          await google.colab.output.renderOutput(dataTable, element);\n",
              "          const docLink = document.createElement('div');\n",
              "          docLink.innerHTML = docLinkHtml;\n",
              "          element.appendChild(docLink);\n",
              "        }\n",
              "      </script>\n",
              "    </div>\n",
              "  </div>\n",
              "  "
            ]
          },
          "metadata": {},
          "execution_count": 13
        }
      ]
    },
    {
      "cell_type": "code",
      "source": [
        "data.info()"
      ],
      "metadata": {
        "colab": {
          "base_uri": "https://localhost:8080/"
        },
        "id": "HO5I-xt38pFp",
        "outputId": "142eaca2-1498-45b9-faa2-5d3277146b80"
      },
      "execution_count": 14,
      "outputs": [
        {
          "output_type": "stream",
          "name": "stdout",
          "text": [
            "<class 'pandas.core.frame.DataFrame'>\n",
            "RangeIndex: 366 entries, 0 to 365\n",
            "Data columns (total 5 columns):\n",
            " #   Column        Non-Null Count  Dtype \n",
            "---  ------        --------------  ----- \n",
            " 0   Description   366 non-null    object\n",
            " 1   Price         366 non-null    object\n",
            " 2   Rating        343 non-null    object\n",
            " 3   Review Count  343 non-null    object\n",
            " 4   URL           366 non-null    object\n",
            "dtypes: object(5)\n",
            "memory usage: 14.4+ KB\n"
          ]
        }
      ]
    },
    {
      "cell_type": "code",
      "source": [
        "data.duplicated().sum()"
      ],
      "metadata": {
        "colab": {
          "base_uri": "https://localhost:8080/"
        },
        "id": "-qd3ek2QJhYw",
        "outputId": "50442bfc-6873-4a78-f74a-af0abd16d2d6"
      },
      "execution_count": 15,
      "outputs": [
        {
          "output_type": "execute_result",
          "data": {
            "text/plain": [
              "0"
            ]
          },
          "metadata": {},
          "execution_count": 15
        }
      ]
    },
    {
      "cell_type": "code",
      "source": [
        "#checking for null values\n",
        "data.isnull().sum()"
      ],
      "metadata": {
        "colab": {
          "base_uri": "https://localhost:8080/"
        },
        "id": "U_5-YRWvJthq",
        "outputId": "5dcad3d1-9a2d-41aa-bc91-7e2d08a92903"
      },
      "execution_count": 16,
      "outputs": [
        {
          "output_type": "execute_result",
          "data": {
            "text/plain": [
              "Description      0\n",
              "Price            0\n",
              "Rating          23\n",
              "Review Count    23\n",
              "URL              0\n",
              "dtype: int64"
            ]
          },
          "metadata": {},
          "execution_count": 16
        }
      ]
    },
    {
      "cell_type": "markdown",
      "source": [
        "had lcode 5ass nshofo ash kidir\n"
      ],
      "metadata": {
        "id": "RtAJQSJlzOG9"
      }
    },
    {
      "cell_type": "code",
      "source": [
        "data.dropna(inplace=True)"
      ],
      "metadata": {
        "id": "abvzLEknY0QC"
      },
      "execution_count": 17,
      "outputs": []
    },
    {
      "cell_type": "code",
      "source": [
        "data.isnull().sum()"
      ],
      "metadata": {
        "colab": {
          "base_uri": "https://localhost:8080/"
        },
        "id": "QiezGpZM7LLM",
        "outputId": "7cef046d-7937-4eaa-cc39-565790d1ffe2"
      },
      "execution_count": 18,
      "outputs": [
        {
          "output_type": "execute_result",
          "data": {
            "text/plain": [
              "Description     0\n",
              "Price           0\n",
              "Rating          0\n",
              "Review Count    0\n",
              "URL             0\n",
              "dtype: int64"
            ]
          },
          "metadata": {},
          "execution_count": 18
        }
      ]
    },
    {
      "cell_type": "code",
      "source": [
        "data['Price'] = data['Price'].str.replace('$', '')"
      ],
      "metadata": {
        "colab": {
          "base_uri": "https://localhost:8080/"
        },
        "id": "BcaJ1gbMZTt0",
        "outputId": "b04fc1f0-79b5-405f-c5b4-51aaf3e71fae"
      },
      "execution_count": 19,
      "outputs": [
        {
          "output_type": "stream",
          "name": "stderr",
          "text": [
            "<ipython-input-19-ad71304e4ed8>:1: FutureWarning: The default value of regex will change from True to False in a future version. In addition, single character regular expressions will *not* be treated as literal strings when regex=True.\n",
            "  data['Price'] = data['Price'].str.replace('$', '')\n"
          ]
        }
      ]
    },
    {
      "cell_type": "code",
      "source": [
        "data['Price'] = data['Price'].astype(float)"
      ],
      "metadata": {
        "id": "UqIU-5mz_NYq"
      },
      "execution_count": 20,
      "outputs": []
    },
    {
      "cell_type": "code",
      "source": [
        "data['Rating'] = data['Rating'].str.extract('(\\d+\\.\\d+)')"
      ],
      "metadata": {
        "id": "d4FDfuWQ8ZHP"
      },
      "execution_count": 21,
      "outputs": []
    },
    {
      "cell_type": "code",
      "source": [
        "data['Rating'] = data['Rating'].astype(float)"
      ],
      "metadata": {
        "id": "4v8oQ5iXbdeS"
      },
      "execution_count": 22,
      "outputs": []
    },
    {
      "cell_type": "code",
      "source": [
        "# Replace commas with periods in the 'ReviewCount' column\n",
        "data['Review Count'] = data['Review Count'].str.replace(',', '.')\n",
        "data['Review Count'] = data['Review Count'].str.replace('(', '')\n",
        "data['Review Count'] = data['Review Count'].str.replace(')', '')\n",
        "\n",
        "# Convert the 'ReviewCount' column to a float\n",
        "data['Review Count'] = data['Review Count'].astype(float)"
      ],
      "metadata": {
        "id": "bWiha7mFccLB",
        "colab": {
          "base_uri": "https://localhost:8080/"
        },
        "outputId": "a444e506-048d-4e97-d5b8-ebb4d01a6349"
      },
      "execution_count": 37,
      "outputs": [
        {
          "output_type": "stream",
          "name": "stderr",
          "text": [
            "<ipython-input-37-e47de29294b9>:3: FutureWarning: The default value of regex will change from True to False in a future version. In addition, single character regular expressions will *not* be treated as literal strings when regex=True.\n",
            "  data['Review Count'] = data['Review Count'].str.replace('(', '')\n",
            "<ipython-input-37-e47de29294b9>:4: FutureWarning: The default value of regex will change from True to False in a future version. In addition, single character regular expressions will *not* be treated as literal strings when regex=True.\n",
            "  data['Review Count'] = data['Review Count'].str.replace(')', '')\n"
          ]
        }
      ]
    },
    {
      "cell_type": "code",
      "source": [
        "data.head() "
      ],
      "metadata": {
        "id": "2MWoxYBE2twd",
        "outputId": "f4aaf767-d780-446b-f878-9f4a3d8a82bf",
        "colab": {
          "base_uri": "https://localhost:8080/",
          "height": 206
        }
      },
      "execution_count": 39,
      "outputs": [
        {
          "output_type": "execute_result",
          "data": {
            "text/plain": [
              "                                         Description  Price  Rating  \\\n",
              "0                              Amazon.com eGift Card    1.0     4.8   \n",
              "1                Amazon.com Gift Card Balance Reload    0.5     4.6   \n",
              "2                 Amazon.com Print at Home Gift Card    1.0     4.8   \n",
              "3  Amazon.com Gift Card in a Reveal (Various Desi...   20.0     4.9   \n",
              "4  Amazon.com Gift Card in a Greeting Card (Vario...   10.0     4.8   \n",
              "\n",
              "   Review Count                                                URL  \n",
              "0       902.600  https://www.amazon.com/Amazon-eGift-Card-Logo/...  \n",
              "1       372.292  https://www.amazon.com/Amazon-com-Gift-Card-Ba...  \n",
              "2        84.199  https://www.amazon.com/Amazon-Gift-Card-Print-...  \n",
              "3        78.768  https://www.amazon.com/Amazon-com-Reveal-Class...  \n",
              "4        70.425  https://www.amazon.com/Amazon-com-Greeting-Bir...  "
            ],
            "text/html": [
              "\n",
              "  <div id=\"df-87eec63c-4e7c-4c66-bcf9-2dcc760a6d70\">\n",
              "    <div class=\"colab-df-container\">\n",
              "      <div>\n",
              "<style scoped>\n",
              "    .dataframe tbody tr th:only-of-type {\n",
              "        vertical-align: middle;\n",
              "    }\n",
              "\n",
              "    .dataframe tbody tr th {\n",
              "        vertical-align: top;\n",
              "    }\n",
              "\n",
              "    .dataframe thead th {\n",
              "        text-align: right;\n",
              "    }\n",
              "</style>\n",
              "<table border=\"1\" class=\"dataframe\">\n",
              "  <thead>\n",
              "    <tr style=\"text-align: right;\">\n",
              "      <th></th>\n",
              "      <th>Description</th>\n",
              "      <th>Price</th>\n",
              "      <th>Rating</th>\n",
              "      <th>Review Count</th>\n",
              "      <th>URL</th>\n",
              "    </tr>\n",
              "  </thead>\n",
              "  <tbody>\n",
              "    <tr>\n",
              "      <th>0</th>\n",
              "      <td>Amazon.com eGift Card</td>\n",
              "      <td>1.0</td>\n",
              "      <td>4.8</td>\n",
              "      <td>902.600</td>\n",
              "      <td>https://www.amazon.com/Amazon-eGift-Card-Logo/...</td>\n",
              "    </tr>\n",
              "    <tr>\n",
              "      <th>1</th>\n",
              "      <td>Amazon.com Gift Card Balance Reload</td>\n",
              "      <td>0.5</td>\n",
              "      <td>4.6</td>\n",
              "      <td>372.292</td>\n",
              "      <td>https://www.amazon.com/Amazon-com-Gift-Card-Ba...</td>\n",
              "    </tr>\n",
              "    <tr>\n",
              "      <th>2</th>\n",
              "      <td>Amazon.com Print at Home Gift Card</td>\n",
              "      <td>1.0</td>\n",
              "      <td>4.8</td>\n",
              "      <td>84.199</td>\n",
              "      <td>https://www.amazon.com/Amazon-Gift-Card-Print-...</td>\n",
              "    </tr>\n",
              "    <tr>\n",
              "      <th>3</th>\n",
              "      <td>Amazon.com Gift Card in a Reveal (Various Desi...</td>\n",
              "      <td>20.0</td>\n",
              "      <td>4.9</td>\n",
              "      <td>78.768</td>\n",
              "      <td>https://www.amazon.com/Amazon-com-Reveal-Class...</td>\n",
              "    </tr>\n",
              "    <tr>\n",
              "      <th>4</th>\n",
              "      <td>Amazon.com Gift Card in a Greeting Card (Vario...</td>\n",
              "      <td>10.0</td>\n",
              "      <td>4.8</td>\n",
              "      <td>70.425</td>\n",
              "      <td>https://www.amazon.com/Amazon-com-Greeting-Bir...</td>\n",
              "    </tr>\n",
              "  </tbody>\n",
              "</table>\n",
              "</div>\n",
              "      <button class=\"colab-df-convert\" onclick=\"convertToInteractive('df-87eec63c-4e7c-4c66-bcf9-2dcc760a6d70')\"\n",
              "              title=\"Convert this dataframe to an interactive table.\"\n",
              "              style=\"display:none;\">\n",
              "        \n",
              "  <svg xmlns=\"http://www.w3.org/2000/svg\" height=\"24px\"viewBox=\"0 0 24 24\"\n",
              "       width=\"24px\">\n",
              "    <path d=\"M0 0h24v24H0V0z\" fill=\"none\"/>\n",
              "    <path d=\"M18.56 5.44l.94 2.06.94-2.06 2.06-.94-2.06-.94-.94-2.06-.94 2.06-2.06.94zm-11 1L8.5 8.5l.94-2.06 2.06-.94-2.06-.94L8.5 2.5l-.94 2.06-2.06.94zm10 10l.94 2.06.94-2.06 2.06-.94-2.06-.94-.94-2.06-.94 2.06-2.06.94z\"/><path d=\"M17.41 7.96l-1.37-1.37c-.4-.4-.92-.59-1.43-.59-.52 0-1.04.2-1.43.59L10.3 9.45l-7.72 7.72c-.78.78-.78 2.05 0 2.83L4 21.41c.39.39.9.59 1.41.59.51 0 1.02-.2 1.41-.59l7.78-7.78 2.81-2.81c.8-.78.8-2.07 0-2.86zM5.41 20L4 18.59l7.72-7.72 1.47 1.35L5.41 20z\"/>\n",
              "  </svg>\n",
              "      </button>\n",
              "      \n",
              "  <style>\n",
              "    .colab-df-container {\n",
              "      display:flex;\n",
              "      flex-wrap:wrap;\n",
              "      gap: 12px;\n",
              "    }\n",
              "\n",
              "    .colab-df-convert {\n",
              "      background-color: #E8F0FE;\n",
              "      border: none;\n",
              "      border-radius: 50%;\n",
              "      cursor: pointer;\n",
              "      display: none;\n",
              "      fill: #1967D2;\n",
              "      height: 32px;\n",
              "      padding: 0 0 0 0;\n",
              "      width: 32px;\n",
              "    }\n",
              "\n",
              "    .colab-df-convert:hover {\n",
              "      background-color: #E2EBFA;\n",
              "      box-shadow: 0px 1px 2px rgba(60, 64, 67, 0.3), 0px 1px 3px 1px rgba(60, 64, 67, 0.15);\n",
              "      fill: #174EA6;\n",
              "    }\n",
              "\n",
              "    [theme=dark] .colab-df-convert {\n",
              "      background-color: #3B4455;\n",
              "      fill: #D2E3FC;\n",
              "    }\n",
              "\n",
              "    [theme=dark] .colab-df-convert:hover {\n",
              "      background-color: #434B5C;\n",
              "      box-shadow: 0px 1px 3px 1px rgba(0, 0, 0, 0.15);\n",
              "      filter: drop-shadow(0px 1px 2px rgba(0, 0, 0, 0.3));\n",
              "      fill: #FFFFFF;\n",
              "    }\n",
              "  </style>\n",
              "\n",
              "      <script>\n",
              "        const buttonEl =\n",
              "          document.querySelector('#df-87eec63c-4e7c-4c66-bcf9-2dcc760a6d70 button.colab-df-convert');\n",
              "        buttonEl.style.display =\n",
              "          google.colab.kernel.accessAllowed ? 'block' : 'none';\n",
              "\n",
              "        async function convertToInteractive(key) {\n",
              "          const element = document.querySelector('#df-87eec63c-4e7c-4c66-bcf9-2dcc760a6d70');\n",
              "          const dataTable =\n",
              "            await google.colab.kernel.invokeFunction('convertToInteractive',\n",
              "                                                     [key], {});\n",
              "          if (!dataTable) return;\n",
              "\n",
              "          const docLinkHtml = 'Like what you see? Visit the ' +\n",
              "            '<a target=\"_blank\" href=https://colab.research.google.com/notebooks/data_table.ipynb>data table notebook</a>'\n",
              "            + ' to learn more about interactive tables.';\n",
              "          element.innerHTML = '';\n",
              "          dataTable['output_type'] = 'display_data';\n",
              "          await google.colab.output.renderOutput(dataTable, element);\n",
              "          const docLink = document.createElement('div');\n",
              "          docLink.innerHTML = docLinkHtml;\n",
              "          element.appendChild(docLink);\n",
              "        }\n",
              "      </script>\n",
              "    </div>\n",
              "  </div>\n",
              "  "
            ]
          },
          "metadata": {},
          "execution_count": 39
        }
      ]
    },
    {
      "cell_type": "code",
      "source": [
        "data.info()"
      ],
      "metadata": {
        "id": "hjr_rqt5130E",
        "outputId": "955a1017-02a9-485c-a16a-c1970b89a16b",
        "colab": {
          "base_uri": "https://localhost:8080/"
        }
      },
      "execution_count": 40,
      "outputs": [
        {
          "output_type": "stream",
          "name": "stdout",
          "text": [
            "<class 'pandas.core.frame.DataFrame'>\n",
            "Int64Index: 343 entries, 0 to 365\n",
            "Data columns (total 5 columns):\n",
            " #   Column        Non-Null Count  Dtype  \n",
            "---  ------        --------------  -----  \n",
            " 0   Description   343 non-null    object \n",
            " 1   Price         343 non-null    float64\n",
            " 2   Rating        343 non-null    float64\n",
            " 3   Review Count  343 non-null    float64\n",
            " 4   URL           343 non-null    object \n",
            "dtypes: float64(3), object(2)\n",
            "memory usage: 16.1+ KB\n"
          ]
        }
      ]
    },
    {
      "cell_type": "markdown",
      "source": [
        "# **DATA VALUES**"
      ],
      "metadata": {
        "id": "mcfqLOvRGAe7"
      }
    },
    {
      "cell_type": "markdown",
      "source": [
        "##Analyse descriptive"
      ],
      "metadata": {
        "id": "jwGob5FjdZp7"
      }
    },
    {
      "cell_type": "code",
      "source": [
        "data.describe()"
      ],
      "metadata": {
        "id": "_A57VMI51NjR",
        "colab": {
          "base_uri": "https://localhost:8080/",
          "height": 300
        },
        "outputId": "a21e5466-6e2f-4775-9d4d-d192cdf3f5f4"
      },
      "execution_count": 41,
      "outputs": [
        {
          "output_type": "execute_result",
          "data": {
            "text/plain": [
              "            Price      Rating  Review Count\n",
              "count  343.000000  343.000000    343.000000\n",
              "mean    29.090117    4.601166    147.483125\n",
              "std     20.523186    0.569445    229.640458\n",
              "min      0.500000    1.000000      1.000000\n",
              "25%     25.000000    4.600000      4.628500\n",
              "50%     25.000000    4.800000     39.000000\n",
              "75%     25.000000    4.900000    174.000000\n",
              "max    250.000000    5.000000    998.000000"
            ],
            "text/html": [
              "\n",
              "  <div id=\"df-5defc528-16ae-4723-839b-060a5aa9d292\">\n",
              "    <div class=\"colab-df-container\">\n",
              "      <div>\n",
              "<style scoped>\n",
              "    .dataframe tbody tr th:only-of-type {\n",
              "        vertical-align: middle;\n",
              "    }\n",
              "\n",
              "    .dataframe tbody tr th {\n",
              "        vertical-align: top;\n",
              "    }\n",
              "\n",
              "    .dataframe thead th {\n",
              "        text-align: right;\n",
              "    }\n",
              "</style>\n",
              "<table border=\"1\" class=\"dataframe\">\n",
              "  <thead>\n",
              "    <tr style=\"text-align: right;\">\n",
              "      <th></th>\n",
              "      <th>Price</th>\n",
              "      <th>Rating</th>\n",
              "      <th>Review Count</th>\n",
              "    </tr>\n",
              "  </thead>\n",
              "  <tbody>\n",
              "    <tr>\n",
              "      <th>count</th>\n",
              "      <td>343.000000</td>\n",
              "      <td>343.000000</td>\n",
              "      <td>343.000000</td>\n",
              "    </tr>\n",
              "    <tr>\n",
              "      <th>mean</th>\n",
              "      <td>29.090117</td>\n",
              "      <td>4.601166</td>\n",
              "      <td>147.483125</td>\n",
              "    </tr>\n",
              "    <tr>\n",
              "      <th>std</th>\n",
              "      <td>20.523186</td>\n",
              "      <td>0.569445</td>\n",
              "      <td>229.640458</td>\n",
              "    </tr>\n",
              "    <tr>\n",
              "      <th>min</th>\n",
              "      <td>0.500000</td>\n",
              "      <td>1.000000</td>\n",
              "      <td>1.000000</td>\n",
              "    </tr>\n",
              "    <tr>\n",
              "      <th>25%</th>\n",
              "      <td>25.000000</td>\n",
              "      <td>4.600000</td>\n",
              "      <td>4.628500</td>\n",
              "    </tr>\n",
              "    <tr>\n",
              "      <th>50%</th>\n",
              "      <td>25.000000</td>\n",
              "      <td>4.800000</td>\n",
              "      <td>39.000000</td>\n",
              "    </tr>\n",
              "    <tr>\n",
              "      <th>75%</th>\n",
              "      <td>25.000000</td>\n",
              "      <td>4.900000</td>\n",
              "      <td>174.000000</td>\n",
              "    </tr>\n",
              "    <tr>\n",
              "      <th>max</th>\n",
              "      <td>250.000000</td>\n",
              "      <td>5.000000</td>\n",
              "      <td>998.000000</td>\n",
              "    </tr>\n",
              "  </tbody>\n",
              "</table>\n",
              "</div>\n",
              "      <button class=\"colab-df-convert\" onclick=\"convertToInteractive('df-5defc528-16ae-4723-839b-060a5aa9d292')\"\n",
              "              title=\"Convert this dataframe to an interactive table.\"\n",
              "              style=\"display:none;\">\n",
              "        \n",
              "  <svg xmlns=\"http://www.w3.org/2000/svg\" height=\"24px\"viewBox=\"0 0 24 24\"\n",
              "       width=\"24px\">\n",
              "    <path d=\"M0 0h24v24H0V0z\" fill=\"none\"/>\n",
              "    <path d=\"M18.56 5.44l.94 2.06.94-2.06 2.06-.94-2.06-.94-.94-2.06-.94 2.06-2.06.94zm-11 1L8.5 8.5l.94-2.06 2.06-.94-2.06-.94L8.5 2.5l-.94 2.06-2.06.94zm10 10l.94 2.06.94-2.06 2.06-.94-2.06-.94-.94-2.06-.94 2.06-2.06.94z\"/><path d=\"M17.41 7.96l-1.37-1.37c-.4-.4-.92-.59-1.43-.59-.52 0-1.04.2-1.43.59L10.3 9.45l-7.72 7.72c-.78.78-.78 2.05 0 2.83L4 21.41c.39.39.9.59 1.41.59.51 0 1.02-.2 1.41-.59l7.78-7.78 2.81-2.81c.8-.78.8-2.07 0-2.86zM5.41 20L4 18.59l7.72-7.72 1.47 1.35L5.41 20z\"/>\n",
              "  </svg>\n",
              "      </button>\n",
              "      \n",
              "  <style>\n",
              "    .colab-df-container {\n",
              "      display:flex;\n",
              "      flex-wrap:wrap;\n",
              "      gap: 12px;\n",
              "    }\n",
              "\n",
              "    .colab-df-convert {\n",
              "      background-color: #E8F0FE;\n",
              "      border: none;\n",
              "      border-radius: 50%;\n",
              "      cursor: pointer;\n",
              "      display: none;\n",
              "      fill: #1967D2;\n",
              "      height: 32px;\n",
              "      padding: 0 0 0 0;\n",
              "      width: 32px;\n",
              "    }\n",
              "\n",
              "    .colab-df-convert:hover {\n",
              "      background-color: #E2EBFA;\n",
              "      box-shadow: 0px 1px 2px rgba(60, 64, 67, 0.3), 0px 1px 3px 1px rgba(60, 64, 67, 0.15);\n",
              "      fill: #174EA6;\n",
              "    }\n",
              "\n",
              "    [theme=dark] .colab-df-convert {\n",
              "      background-color: #3B4455;\n",
              "      fill: #D2E3FC;\n",
              "    }\n",
              "\n",
              "    [theme=dark] .colab-df-convert:hover {\n",
              "      background-color: #434B5C;\n",
              "      box-shadow: 0px 1px 3px 1px rgba(0, 0, 0, 0.15);\n",
              "      filter: drop-shadow(0px 1px 2px rgba(0, 0, 0, 0.3));\n",
              "      fill: #FFFFFF;\n",
              "    }\n",
              "  </style>\n",
              "\n",
              "      <script>\n",
              "        const buttonEl =\n",
              "          document.querySelector('#df-5defc528-16ae-4723-839b-060a5aa9d292 button.colab-df-convert');\n",
              "        buttonEl.style.display =\n",
              "          google.colab.kernel.accessAllowed ? 'block' : 'none';\n",
              "\n",
              "        async function convertToInteractive(key) {\n",
              "          const element = document.querySelector('#df-5defc528-16ae-4723-839b-060a5aa9d292');\n",
              "          const dataTable =\n",
              "            await google.colab.kernel.invokeFunction('convertToInteractive',\n",
              "                                                     [key], {});\n",
              "          if (!dataTable) return;\n",
              "\n",
              "          const docLinkHtml = 'Like what you see? Visit the ' +\n",
              "            '<a target=\"_blank\" href=https://colab.research.google.com/notebooks/data_table.ipynb>data table notebook</a>'\n",
              "            + ' to learn more about interactive tables.';\n",
              "          element.innerHTML = '';\n",
              "          dataTable['output_type'] = 'display_data';\n",
              "          await google.colab.output.renderOutput(dataTable, element);\n",
              "          const docLink = document.createElement('div');\n",
              "          docLink.innerHTML = docLinkHtml;\n",
              "          element.appendChild(docLink);\n",
              "        }\n",
              "      </script>\n",
              "    </div>\n",
              "  </div>\n",
              "  "
            ]
          },
          "metadata": {},
          "execution_count": 41
        }
      ]
    },
    {
      "cell_type": "code",
      "source": [
        "data.corr()"
      ],
      "metadata": {
        "colab": {
          "base_uri": "https://localhost:8080/",
          "height": 143
        },
        "id": "ArxdZUIp5mmx",
        "outputId": "584810e5-1156-4a54-d5f4-6e2e3f4b8c5b"
      },
      "execution_count": 42,
      "outputs": [
        {
          "output_type": "execute_result",
          "data": {
            "text/plain": [
              "                 Price    Rating  Review Count\n",
              "Price         1.000000 -0.141849      0.036903\n",
              "Rating       -0.141849  1.000000      0.116429\n",
              "Review Count  0.036903  0.116429      1.000000"
            ],
            "text/html": [
              "\n",
              "  <div id=\"df-9fbce037-9575-44f3-8df2-a8860c1e8c1b\">\n",
              "    <div class=\"colab-df-container\">\n",
              "      <div>\n",
              "<style scoped>\n",
              "    .dataframe tbody tr th:only-of-type {\n",
              "        vertical-align: middle;\n",
              "    }\n",
              "\n",
              "    .dataframe tbody tr th {\n",
              "        vertical-align: top;\n",
              "    }\n",
              "\n",
              "    .dataframe thead th {\n",
              "        text-align: right;\n",
              "    }\n",
              "</style>\n",
              "<table border=\"1\" class=\"dataframe\">\n",
              "  <thead>\n",
              "    <tr style=\"text-align: right;\">\n",
              "      <th></th>\n",
              "      <th>Price</th>\n",
              "      <th>Rating</th>\n",
              "      <th>Review Count</th>\n",
              "    </tr>\n",
              "  </thead>\n",
              "  <tbody>\n",
              "    <tr>\n",
              "      <th>Price</th>\n",
              "      <td>1.000000</td>\n",
              "      <td>-0.141849</td>\n",
              "      <td>0.036903</td>\n",
              "    </tr>\n",
              "    <tr>\n",
              "      <th>Rating</th>\n",
              "      <td>-0.141849</td>\n",
              "      <td>1.000000</td>\n",
              "      <td>0.116429</td>\n",
              "    </tr>\n",
              "    <tr>\n",
              "      <th>Review Count</th>\n",
              "      <td>0.036903</td>\n",
              "      <td>0.116429</td>\n",
              "      <td>1.000000</td>\n",
              "    </tr>\n",
              "  </tbody>\n",
              "</table>\n",
              "</div>\n",
              "      <button class=\"colab-df-convert\" onclick=\"convertToInteractive('df-9fbce037-9575-44f3-8df2-a8860c1e8c1b')\"\n",
              "              title=\"Convert this dataframe to an interactive table.\"\n",
              "              style=\"display:none;\">\n",
              "        \n",
              "  <svg xmlns=\"http://www.w3.org/2000/svg\" height=\"24px\"viewBox=\"0 0 24 24\"\n",
              "       width=\"24px\">\n",
              "    <path d=\"M0 0h24v24H0V0z\" fill=\"none\"/>\n",
              "    <path d=\"M18.56 5.44l.94 2.06.94-2.06 2.06-.94-2.06-.94-.94-2.06-.94 2.06-2.06.94zm-11 1L8.5 8.5l.94-2.06 2.06-.94-2.06-.94L8.5 2.5l-.94 2.06-2.06.94zm10 10l.94 2.06.94-2.06 2.06-.94-2.06-.94-.94-2.06-.94 2.06-2.06.94z\"/><path d=\"M17.41 7.96l-1.37-1.37c-.4-.4-.92-.59-1.43-.59-.52 0-1.04.2-1.43.59L10.3 9.45l-7.72 7.72c-.78.78-.78 2.05 0 2.83L4 21.41c.39.39.9.59 1.41.59.51 0 1.02-.2 1.41-.59l7.78-7.78 2.81-2.81c.8-.78.8-2.07 0-2.86zM5.41 20L4 18.59l7.72-7.72 1.47 1.35L5.41 20z\"/>\n",
              "  </svg>\n",
              "      </button>\n",
              "      \n",
              "  <style>\n",
              "    .colab-df-container {\n",
              "      display:flex;\n",
              "      flex-wrap:wrap;\n",
              "      gap: 12px;\n",
              "    }\n",
              "\n",
              "    .colab-df-convert {\n",
              "      background-color: #E8F0FE;\n",
              "      border: none;\n",
              "      border-radius: 50%;\n",
              "      cursor: pointer;\n",
              "      display: none;\n",
              "      fill: #1967D2;\n",
              "      height: 32px;\n",
              "      padding: 0 0 0 0;\n",
              "      width: 32px;\n",
              "    }\n",
              "\n",
              "    .colab-df-convert:hover {\n",
              "      background-color: #E2EBFA;\n",
              "      box-shadow: 0px 1px 2px rgba(60, 64, 67, 0.3), 0px 1px 3px 1px rgba(60, 64, 67, 0.15);\n",
              "      fill: #174EA6;\n",
              "    }\n",
              "\n",
              "    [theme=dark] .colab-df-convert {\n",
              "      background-color: #3B4455;\n",
              "      fill: #D2E3FC;\n",
              "    }\n",
              "\n",
              "    [theme=dark] .colab-df-convert:hover {\n",
              "      background-color: #434B5C;\n",
              "      box-shadow: 0px 1px 3px 1px rgba(0, 0, 0, 0.15);\n",
              "      filter: drop-shadow(0px 1px 2px rgba(0, 0, 0, 0.3));\n",
              "      fill: #FFFFFF;\n",
              "    }\n",
              "  </style>\n",
              "\n",
              "      <script>\n",
              "        const buttonEl =\n",
              "          document.querySelector('#df-9fbce037-9575-44f3-8df2-a8860c1e8c1b button.colab-df-convert');\n",
              "        buttonEl.style.display =\n",
              "          google.colab.kernel.accessAllowed ? 'block' : 'none';\n",
              "\n",
              "        async function convertToInteractive(key) {\n",
              "          const element = document.querySelector('#df-9fbce037-9575-44f3-8df2-a8860c1e8c1b');\n",
              "          const dataTable =\n",
              "            await google.colab.kernel.invokeFunction('convertToInteractive',\n",
              "                                                     [key], {});\n",
              "          if (!dataTable) return;\n",
              "\n",
              "          const docLinkHtml = 'Like what you see? Visit the ' +\n",
              "            '<a target=\"_blank\" href=https://colab.research.google.com/notebooks/data_table.ipynb>data table notebook</a>'\n",
              "            + ' to learn more about interactive tables.';\n",
              "          element.innerHTML = '';\n",
              "          dataTable['output_type'] = 'display_data';\n",
              "          await google.colab.output.renderOutput(dataTable, element);\n",
              "          const docLink = document.createElement('div');\n",
              "          docLink.innerHTML = docLinkHtml;\n",
              "          element.appendChild(docLink);\n",
              "        }\n",
              "      </script>\n",
              "    </div>\n",
              "  </div>\n",
              "  "
            ]
          },
          "metadata": {},
          "execution_count": 42
        }
      ]
    },
    {
      "cell_type": "markdown",
      "source": [
        "les var sont independants"
      ],
      "metadata": {
        "id": "A2WGtHTvUdsw"
      }
    },
    {
      "cell_type": "code",
      "source": [
        "\n",
        "# Define the categories and corresponding keywords\n",
        "categories = {\n",
        "    'Birthday': ['birthday', 'celebrate', 'anniversary'],\n",
        "    'Beauty': ['beauty', 'makeup', 'spa','sephora','body','hair',' secret'],\n",
        "    'Holidays': ['holiday', 'Christmas', 'Easter', 'Thanksgiving', 'Hanukkah'],\n",
        "    'New Year': ['new year', 'resolutions', 'new beginnings'],\n",
        "    'Congratulations': ['congratulations', 'congrats', 'graduation', 'greeting'],\n",
        "    'Thank You': ['thank you', 'gratitude', 'appreciation'],\n",
        "    'Wedding': ['wedding', 'bride', 'groom', 'honeymoon'],\n",
        "    'Baby Shower': ['baby shower', 'new baby', 'pregnancy', 'infant','baby'],\n",
        "    'Phone': ['iPhone'],\n",
        "    'eGift Card': ['eGift Card'],\n",
        "    'Housewarming': ['housewarming', 'new home', 'moving'],\n",
        "    'Sympathy': ['sympathy', 'condolence', 'funeral'],\n",
        "    'Get Well Soon': ['get well soon', 'recovery', 'healing'],\n",
        "    'Just Because': ['just because', 'random', 'surprise'],\n",
        "    'Business': ['business', 'corporate', 'partnership'],\n",
        "    'Food & Beverage': ['food', 'beverage', 'restaurant','starbucks'],\n",
        "    'Travel & Experience': ['travel', 'experience', 'adventure','uber','hotel','pack'],\n",
        "    'Sports & Outdoors': ['sports', 'outdoors', 'exercise','foot'],\n",
        "    'Books & Media': ['books', 'media', 'reading','netflix','instacart','twitch','grubhub'],\n",
        "    'Arts & Crafts': ['arts', 'crafts', 'creative'],\n",
        "    'Electronics': ['electronics', 'tech', 'gadgets','razer'],\n",
        "    'Games & Toys': ['games', 'toys', 'play'],\n",
        "    'Pet Supplies': ['pet', 'animal', 'dog', 'cat'],\n",
        "    'Music & Entertainment': ['music', 'entertainment', 'concert'],\n",
        "    'Fashion & Accessories': ['fashion', 'accessories', 'style'],\n",
        "    'Home & Garden': ['home', 'garden', 'decoration','door'],\n",
        "    'Office & School': ['office', 'school', 'learning'],\n",
        "    'Charity & Donations': ['charity', 'donation', 'giving'],\n",
        "    'Other': []\n",
        "}\n",
        "\n",
        "# Define a function to assign categories based on keywords\n",
        "def assign_category(description):\n",
        "    for category, keywords in categories.items():\n",
        "        for keyword in keywords:\n",
        "            if keyword in description.lower():\n",
        "                return category\n",
        "    return 'Other'\n",
        "\n",
        "# Apply the function to the 'Description' column and create a new column 'Category'\n",
        "data['Category'] = data['Description'].apply(assign_category)"
      ],
      "metadata": {
        "id": "V8z2GF8uGwgU"
      },
      "execution_count": 44,
      "outputs": []
    },
    {
      "cell_type": "code",
      "source": [
        "data.head()"
      ],
      "metadata": {
        "id": "U4xAE_uv51oF",
        "outputId": "ab46cd5c-cfee-4d0a-8ffc-e3ac9295a111",
        "colab": {
          "base_uri": "https://localhost:8080/",
          "height": 349
        }
      },
      "execution_count": 45,
      "outputs": [
        {
          "output_type": "execute_result",
          "data": {
            "text/plain": [
              "                                         Description  Price  Rating  \\\n",
              "0                              Amazon.com eGift Card    1.0     4.8   \n",
              "1                Amazon.com Gift Card Balance Reload    0.5     4.6   \n",
              "2                 Amazon.com Print at Home Gift Card    1.0     4.8   \n",
              "3  Amazon.com Gift Card in a Reveal (Various Desi...   20.0     4.9   \n",
              "4  Amazon.com Gift Card in a Greeting Card (Vario...   10.0     4.8   \n",
              "\n",
              "   Review Count                                                URL  \\\n",
              "0       902.600  https://www.amazon.com/Amazon-eGift-Card-Logo/...   \n",
              "1       372.292  https://www.amazon.com/Amazon-com-Gift-Card-Ba...   \n",
              "2        84.199  https://www.amazon.com/Amazon-Gift-Card-Print-...   \n",
              "3        78.768  https://www.amazon.com/Amazon-com-Reveal-Class...   \n",
              "4        70.425  https://www.amazon.com/Amazon-com-Greeting-Bir...   \n",
              "\n",
              "          Category  \n",
              "0            Other  \n",
              "1            Other  \n",
              "2    Home & Garden  \n",
              "3            Other  \n",
              "4  Congratulations  "
            ],
            "text/html": [
              "\n",
              "  <div id=\"df-0e123544-2f9d-42ee-9394-17f393306148\">\n",
              "    <div class=\"colab-df-container\">\n",
              "      <div>\n",
              "<style scoped>\n",
              "    .dataframe tbody tr th:only-of-type {\n",
              "        vertical-align: middle;\n",
              "    }\n",
              "\n",
              "    .dataframe tbody tr th {\n",
              "        vertical-align: top;\n",
              "    }\n",
              "\n",
              "    .dataframe thead th {\n",
              "        text-align: right;\n",
              "    }\n",
              "</style>\n",
              "<table border=\"1\" class=\"dataframe\">\n",
              "  <thead>\n",
              "    <tr style=\"text-align: right;\">\n",
              "      <th></th>\n",
              "      <th>Description</th>\n",
              "      <th>Price</th>\n",
              "      <th>Rating</th>\n",
              "      <th>Review Count</th>\n",
              "      <th>URL</th>\n",
              "      <th>Category</th>\n",
              "    </tr>\n",
              "  </thead>\n",
              "  <tbody>\n",
              "    <tr>\n",
              "      <th>0</th>\n",
              "      <td>Amazon.com eGift Card</td>\n",
              "      <td>1.0</td>\n",
              "      <td>4.8</td>\n",
              "      <td>902.600</td>\n",
              "      <td>https://www.amazon.com/Amazon-eGift-Card-Logo/...</td>\n",
              "      <td>Other</td>\n",
              "    </tr>\n",
              "    <tr>\n",
              "      <th>1</th>\n",
              "      <td>Amazon.com Gift Card Balance Reload</td>\n",
              "      <td>0.5</td>\n",
              "      <td>4.6</td>\n",
              "      <td>372.292</td>\n",
              "      <td>https://www.amazon.com/Amazon-com-Gift-Card-Ba...</td>\n",
              "      <td>Other</td>\n",
              "    </tr>\n",
              "    <tr>\n",
              "      <th>2</th>\n",
              "      <td>Amazon.com Print at Home Gift Card</td>\n",
              "      <td>1.0</td>\n",
              "      <td>4.8</td>\n",
              "      <td>84.199</td>\n",
              "      <td>https://www.amazon.com/Amazon-Gift-Card-Print-...</td>\n",
              "      <td>Home &amp; Garden</td>\n",
              "    </tr>\n",
              "    <tr>\n",
              "      <th>3</th>\n",
              "      <td>Amazon.com Gift Card in a Reveal (Various Desi...</td>\n",
              "      <td>20.0</td>\n",
              "      <td>4.9</td>\n",
              "      <td>78.768</td>\n",
              "      <td>https://www.amazon.com/Amazon-com-Reveal-Class...</td>\n",
              "      <td>Other</td>\n",
              "    </tr>\n",
              "    <tr>\n",
              "      <th>4</th>\n",
              "      <td>Amazon.com Gift Card in a Greeting Card (Vario...</td>\n",
              "      <td>10.0</td>\n",
              "      <td>4.8</td>\n",
              "      <td>70.425</td>\n",
              "      <td>https://www.amazon.com/Amazon-com-Greeting-Bir...</td>\n",
              "      <td>Congratulations</td>\n",
              "    </tr>\n",
              "  </tbody>\n",
              "</table>\n",
              "</div>\n",
              "      <button class=\"colab-df-convert\" onclick=\"convertToInteractive('df-0e123544-2f9d-42ee-9394-17f393306148')\"\n",
              "              title=\"Convert this dataframe to an interactive table.\"\n",
              "              style=\"display:none;\">\n",
              "        \n",
              "  <svg xmlns=\"http://www.w3.org/2000/svg\" height=\"24px\"viewBox=\"0 0 24 24\"\n",
              "       width=\"24px\">\n",
              "    <path d=\"M0 0h24v24H0V0z\" fill=\"none\"/>\n",
              "    <path d=\"M18.56 5.44l.94 2.06.94-2.06 2.06-.94-2.06-.94-.94-2.06-.94 2.06-2.06.94zm-11 1L8.5 8.5l.94-2.06 2.06-.94-2.06-.94L8.5 2.5l-.94 2.06-2.06.94zm10 10l.94 2.06.94-2.06 2.06-.94-2.06-.94-.94-2.06-.94 2.06-2.06.94z\"/><path d=\"M17.41 7.96l-1.37-1.37c-.4-.4-.92-.59-1.43-.59-.52 0-1.04.2-1.43.59L10.3 9.45l-7.72 7.72c-.78.78-.78 2.05 0 2.83L4 21.41c.39.39.9.59 1.41.59.51 0 1.02-.2 1.41-.59l7.78-7.78 2.81-2.81c.8-.78.8-2.07 0-2.86zM5.41 20L4 18.59l7.72-7.72 1.47 1.35L5.41 20z\"/>\n",
              "  </svg>\n",
              "      </button>\n",
              "      \n",
              "  <style>\n",
              "    .colab-df-container {\n",
              "      display:flex;\n",
              "      flex-wrap:wrap;\n",
              "      gap: 12px;\n",
              "    }\n",
              "\n",
              "    .colab-df-convert {\n",
              "      background-color: #E8F0FE;\n",
              "      border: none;\n",
              "      border-radius: 50%;\n",
              "      cursor: pointer;\n",
              "      display: none;\n",
              "      fill: #1967D2;\n",
              "      height: 32px;\n",
              "      padding: 0 0 0 0;\n",
              "      width: 32px;\n",
              "    }\n",
              "\n",
              "    .colab-df-convert:hover {\n",
              "      background-color: #E2EBFA;\n",
              "      box-shadow: 0px 1px 2px rgba(60, 64, 67, 0.3), 0px 1px 3px 1px rgba(60, 64, 67, 0.15);\n",
              "      fill: #174EA6;\n",
              "    }\n",
              "\n",
              "    [theme=dark] .colab-df-convert {\n",
              "      background-color: #3B4455;\n",
              "      fill: #D2E3FC;\n",
              "    }\n",
              "\n",
              "    [theme=dark] .colab-df-convert:hover {\n",
              "      background-color: #434B5C;\n",
              "      box-shadow: 0px 1px 3px 1px rgba(0, 0, 0, 0.15);\n",
              "      filter: drop-shadow(0px 1px 2px rgba(0, 0, 0, 0.3));\n",
              "      fill: #FFFFFF;\n",
              "    }\n",
              "  </style>\n",
              "\n",
              "      <script>\n",
              "        const buttonEl =\n",
              "          document.querySelector('#df-0e123544-2f9d-42ee-9394-17f393306148 button.colab-df-convert');\n",
              "        buttonEl.style.display =\n",
              "          google.colab.kernel.accessAllowed ? 'block' : 'none';\n",
              "\n",
              "        async function convertToInteractive(key) {\n",
              "          const element = document.querySelector('#df-0e123544-2f9d-42ee-9394-17f393306148');\n",
              "          const dataTable =\n",
              "            await google.colab.kernel.invokeFunction('convertToInteractive',\n",
              "                                                     [key], {});\n",
              "          if (!dataTable) return;\n",
              "\n",
              "          const docLinkHtml = 'Like what you see? Visit the ' +\n",
              "            '<a target=\"_blank\" href=https://colab.research.google.com/notebooks/data_table.ipynb>data table notebook</a>'\n",
              "            + ' to learn more about interactive tables.';\n",
              "          element.innerHTML = '';\n",
              "          dataTable['output_type'] = 'display_data';\n",
              "          await google.colab.output.renderOutput(dataTable, element);\n",
              "          const docLink = document.createElement('div');\n",
              "          docLink.innerHTML = docLinkHtml;\n",
              "          element.appendChild(docLink);\n",
              "        }\n",
              "      </script>\n",
              "    </div>\n",
              "  </div>\n",
              "  "
            ]
          },
          "metadata": {},
          "execution_count": 45
        },
        {
          "output_type": "stream",
          "name": "stdout",
          "text": [
            "Error: Runtime no longer has a reference to this dataframe, please re-run this cell and try again.\n"
          ]
        }
      ]
    },
    {
      "cell_type": "code",
      "source": [
        "# Calculate the mean rating for each category\n",
        "mean_ratings = data.groupby(\"Category\")[\"Rating\"].mean().reset_index()\n",
        "\n",
        "# Set the figure size\n",
        "plt.figure(figsize=(20, 6))\n",
        "\n",
        "# Create the bar plot\n",
        "sns.barplot(x=\"Category\", y=\"Rating\", data=mean_ratings, hue=\"Category\", dodge=False, palette=\"Set2\", alpha=0.8, ci=None, edgecolor='black', linewidth=1.5)\n",
        "\n",
        "# Set the x-axis label\n",
        "plt.xlabel(\"Category\")\n",
        "\n",
        "# Set the y-axis label\n",
        "plt.ylabel(\"Average Rating\")\n",
        "\n",
        "# Set the title\n",
        "plt.title(\"Average Gift Card Ratings by Category\")\n",
        "\n",
        "# Display the plot\n",
        "plt.show()"
      ],
      "metadata": {
        "colab": {
          "base_uri": "https://localhost:8080/",
          "height": 393
        },
        "id": "Fozq-aYqMTiT",
        "outputId": "290c671c-20e6-44c4-c084-4f2ecb056ba8"
      },
      "execution_count": 48,
      "outputs": [
        {
          "output_type": "display_data",
          "data": {
            "text/plain": [
              "<Figure size 1584x432 with 1 Axes>"
            ],
            "image/png": "[encoded data removed]"
          },
          "metadata": {
            "needs_background": "light"
          }
        }
      ]
    },
    {
      "cell_type": "code",
      "source": [
        "# Group the data by 'Category' and calculate the mean price\n",
        "mean_price = data.groupby('Category')['Price'].mean()\n",
        "\n",
        "# Convert the resulting Series back to a DataFrame\n",
        "mean_price = mean_price.to_frame().reset_index()\n",
        "\n",
        "# Set the size of the figure\n",
        "plt.figure(figsize=(20, 6))\n",
        "\n",
        "# Create a bar plot\n",
        "sns.barplot(x='Category', y='Price', data=mean_price ,  hue=\"Category\", dodge=False, palette=\"Set2\", alpha=0.8, ci=None, edgecolor='black', linewidth=1.5)\n",
        "\n",
        "# Set the title and axis labels\n",
        "plt.title('Average Prices by Category')\n",
        "plt.xlabel('Category')\n",
        "plt.ylabel('Average Price')\n",
        "\n",
        "# Display the plot\n",
        "plt.show()"
      ],
      "metadata": {
        "colab": {
          "base_uri": "https://localhost:8080/",
          "height": 404
        },
        "id": "aZS_DtwAOwJk",
        "outputId": "2b6b0911-32c2-422a-ef54-6fa6a76784d6"
      },
      "execution_count": 49,
      "outputs": [
        {
          "output_type": "display_data",
          "data": {
            "text/plain": [
              "<Figure size 1440x432 with 1 Axes>"
            ],
            "image/png": "[encoded data removed]"
          },
          "metadata": {
            "needs_background": "light"
          }
        }
      ]
    },
    {
      "cell_type": "code",
      "source": [
        "# Group the data by 'Category' and calculate the mean Review Count\n",
        "mean_Review = data.groupby('Category')['Review Count'].mean()\n",
        "\n",
        "# Convert the resulting Series back to a DataFrame\n",
        "mean_Review= mean_Review.to_frame().reset_index()\n",
        "\n",
        "# Set the size of the figure\n",
        "plt.figure(figsize=(20, 6))\n",
        "\n",
        "# Create a bar plot\n",
        "sns.barplot(x='Category', y='Review Count', data=mean_Review  ,  hue=\"Category\", dodge=False, palette=\"Set2\", alpha=0.8, ci=None, edgecolor='black', linewidth=1.5)\n",
        "\n",
        "# Set the title and axis labels\n",
        "plt.title('Average Review Count by Category')\n",
        "plt.xlabel('Category')\n",
        "plt.ylabel('Average Review Count')\n",
        "\n",
        "# Display the plot\n",
        "plt.show()"
      ],
      "metadata": {
        "id": "2gb1gJPx8Ddq",
        "outputId": "9b35e851-dc51-46d4-b839-0332acb39988",
        "colab": {
          "base_uri": "https://localhost:8080/",
          "height": 404
        }
      },
      "execution_count": 50,
      "outputs": [
        {
          "output_type": "display_data",
          "data": {
            "text/plain": [
              "<Figure size 1440x432 with 1 Axes>"
            ],
            "image/png": "[encoded data removed]"
          },
          "metadata": {
            "needs_background": "light"
          }
        }
      ]
    },
    {
      "cell_type": "code",
      "source": [],
      "metadata": {
        "id": "x4aoigrJ9JhW"
      },
      "execution_count": null,
      "outputs": []
    }
  ],
  "metadata": {
    "colab": {
      "provenance": []
    },
    "kernelspec": {
      "display_name": "Python 3 (ipykernel)",
      "language": "python",
      "name": "python3"
    },
    "language_info": {
      "codemirror_mode": {
        "name": "ipython",
        "version": 3
      },
      "file_extension": ".py",
      "mimetype": "text/x-python",
      "name": "python",
      "nbconvert_exporter": "python",
      "pygments_lexer": "ipython3",
      "version": "3.9.7"
    }
  },
  "nbformat": 4,
  "nbformat_minor": 0
}